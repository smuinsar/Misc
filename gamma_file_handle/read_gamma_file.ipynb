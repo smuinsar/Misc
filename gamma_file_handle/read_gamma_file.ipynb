{
 "cells": [
  {
   "cell_type": "code",
   "execution_count": 1,
   "metadata": {},
   "outputs": [],
   "source": [
    "import os\n",
    "import numpy as np\n",
    "from datetime import datetime\n",
    "\n",
    "from src.gamma_utils import read_binary_file, write_binary_file, parse_sar_parameter_file\n",
    "import matplotlib.pyplot as plt\n",
    "import matplotlib.patches as patches\n",
    "\n",
    "import warnings\n",
    "warnings.filterwarnings(\"ignore\")"
   ]
  },
  {
   "cell_type": "code",
   "execution_count": null,
   "metadata": {},
   "outputs": [],
   "source": [
    "filename = \"PAZ/20221017.rmli\"\n",
    "parfilename = \"PAZ/20221017.rmli.par\"\n",
    "params = parse_sar_parameter_file(parfilename)\n",
    "\n",
    "width = int(params.metadata['range_samples'])\n",
    "length = int(params.metadata['azimuth_lines'])\n",
    "image_format = params.metadata['image_format']\n",
    "print(f'width: {width}, length: {length}, image_format: {image_format}')\n",
    "\n",
    "mli1 = read_binary_file(filename, width, length, image_format)"
   ]
  },
  {
   "cell_type": "code",
   "execution_count": 3,
   "metadata": {},
   "outputs": [],
   "source": [
    "min_col, max_col = 992, 992+256\n",
    "min_row, max_row = 551, 551+256"
   ]
  },
  {
   "cell_type": "code",
   "execution_count": null,
   "metadata": {},
   "outputs": [],
   "source": [
    "fig, ax = plt.subplots(figsize=(15,10))\n",
    "ax.imshow(mli1**0.1, cmap='gray')\n",
    "# ax.axis('off')\n",
    "\n",
    "# Create a rectangle patch\n",
    "rect = patches.Rectangle(\n",
    "    (min_col, min_row),                 # (x,y) of bottom left corner\n",
    "    max_col - min_col,                  # width\n",
    "    max_row - min_row,                  # height\n",
    "    linewidth=2,\n",
    "    edgecolor='r',                      # red color for visibility\n",
    "    facecolor='none'                    # transparent face\n",
    ")\n",
    "ax.add_patch(rect)\n",
    "plt.show()"
   ]
  },
  {
   "cell_type": "code",
   "execution_count": null,
   "metadata": {},
   "outputs": [],
   "source": []
  }
 ],
 "metadata": {
  "kernelspec": {
   "display_name": "insar",
   "language": "python",
   "name": "python3"
  },
  "language_info": {
   "codemirror_mode": {
    "name": "ipython",
    "version": 3
   },
   "file_extension": ".py",
   "mimetype": "text/x-python",
   "name": "python",
   "nbconvert_exporter": "python",
   "pygments_lexer": "ipython3",
   "version": "3.11.9"
  }
 },
 "nbformat": 4,
 "nbformat_minor": 2
}
